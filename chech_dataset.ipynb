{
 "cells": [
  {
   "cell_type": "code",
   "execution_count": 1,
   "metadata": {},
   "outputs": [],
   "source": [
    "from lib.datasets.lip import LIP"
   ]
  },
  {
   "cell_type": "code",
   "execution_count": 3,
   "metadata": {},
   "outputs": [
    {
     "ename": "ValueError",
     "evalue": "not enough values to unpack (expected 3, got 1)",
     "output_type": "error",
     "traceback": [
      "\u001b[0;31m---------------------------------------------------------------------------\u001b[0m",
      "\u001b[0;31mValueError\u001b[0m                                Traceback (most recent call last)",
      "\u001b[1;32m/home/ubuntu/data/yong/projects/HRNet-Semantic-Segmentation/chech_dataset.ipynb Cell 2\u001b[0m in \u001b[0;36m<cell line: 1>\u001b[0;34m()\u001b[0m\n\u001b[0;32m----> <a href='vscode-notebook-cell://ssh-remote%2B7b22686f73744e616d65223a224d616368696e654e6f31227d/home/ubuntu/data/yong/projects/HRNet-Semantic-Segmentation/chech_dataset.ipynb#W1sdnNjb2RlLXJlbW90ZQ%3D%3D?line=0'>1</a>\u001b[0m ds \u001b[39m=\u001b[39m LIP(root\u001b[39m=\u001b[39;49m\u001b[39m'\u001b[39;49m\u001b[39mdata/\u001b[39;49m\u001b[39m'\u001b[39;49m,\n\u001b[1;32m      <a href='vscode-notebook-cell://ssh-remote%2B7b22686f73744e616d65223a224d616368696e654e6f31227d/home/ubuntu/data/yong/projects/HRNet-Semantic-Segmentation/chech_dataset.ipynb#W1sdnNjb2RlLXJlbW90ZQ%3D%3D?line=1'>2</a>\u001b[0m          list_path\u001b[39m=\u001b[39;49m\u001b[39m'\u001b[39;49m\u001b[39mlist/lip/trainList.txt\u001b[39;49m\u001b[39m'\u001b[39;49m,\n\u001b[1;32m      <a href='vscode-notebook-cell://ssh-remote%2B7b22686f73744e616d65223a224d616368696e654e6f31227d/home/ubuntu/data/yong/projects/HRNet-Semantic-Segmentation/chech_dataset.ipynb#W1sdnNjb2RlLXJlbW90ZQ%3D%3D?line=2'>3</a>\u001b[0m          num_samples \u001b[39m=\u001b[39;49m \u001b[39mNone\u001b[39;49;00m,\n\u001b[1;32m      <a href='vscode-notebook-cell://ssh-remote%2B7b22686f73744e616d65223a224d616368696e654e6f31227d/home/ubuntu/data/yong/projects/HRNet-Semantic-Segmentation/chech_dataset.ipynb#W1sdnNjb2RlLXJlbW90ZQ%3D%3D?line=3'>4</a>\u001b[0m          num_classes\u001b[39m=\u001b[39;49m\u001b[39m20\u001b[39;49m,\n\u001b[1;32m      <a href='vscode-notebook-cell://ssh-remote%2B7b22686f73744e616d65223a224d616368696e654e6f31227d/home/ubuntu/data/yong/projects/HRNet-Semantic-Segmentation/chech_dataset.ipynb#W1sdnNjb2RlLXJlbW90ZQ%3D%3D?line=4'>5</a>\u001b[0m         multi_scale\u001b[39m=\u001b[39;49m\u001b[39mTrue\u001b[39;49;00m,\n\u001b[1;32m      <a href='vscode-notebook-cell://ssh-remote%2B7b22686f73744e616d65223a224d616368696e654e6f31227d/home/ubuntu/data/yong/projects/HRNet-Semantic-Segmentation/chech_dataset.ipynb#W1sdnNjb2RlLXJlbW90ZQ%3D%3D?line=5'>6</a>\u001b[0m         flip\u001b[39m=\u001b[39;49m\u001b[39mTrue\u001b[39;49;00m,\n\u001b[1;32m      <a href='vscode-notebook-cell://ssh-remote%2B7b22686f73744e616d65223a224d616368696e654e6f31227d/home/ubuntu/data/yong/projects/HRNet-Semantic-Segmentation/chech_dataset.ipynb#W1sdnNjb2RlLXJlbW90ZQ%3D%3D?line=6'>7</a>\u001b[0m         ignore_label\u001b[39m=\u001b[39;49m\u001b[39m255\u001b[39;49m,\n\u001b[1;32m      <a href='vscode-notebook-cell://ssh-remote%2B7b22686f73744e616d65223a224d616368696e654e6f31227d/home/ubuntu/data/yong/projects/HRNet-Semantic-Segmentation/chech_dataset.ipynb#W1sdnNjb2RlLXJlbW90ZQ%3D%3D?line=7'>8</a>\u001b[0m         base_size\u001b[39m=\u001b[39;49m\u001b[39m473\u001b[39;49m,\n\u001b[1;32m      <a href='vscode-notebook-cell://ssh-remote%2B7b22686f73744e616d65223a224d616368696e654e6f31227d/home/ubuntu/data/yong/projects/HRNet-Semantic-Segmentation/chech_dataset.ipynb#W1sdnNjb2RlLXJlbW90ZQ%3D%3D?line=8'>9</a>\u001b[0m         crop_size\u001b[39m=\u001b[39;49m(\u001b[39m473\u001b[39;49m, \u001b[39m473\u001b[39;49m),\n\u001b[1;32m     <a href='vscode-notebook-cell://ssh-remote%2B7b22686f73744e616d65223a224d616368696e654e6f31227d/home/ubuntu/data/yong/projects/HRNet-Semantic-Segmentation/chech_dataset.ipynb#W1sdnNjb2RlLXJlbW90ZQ%3D%3D?line=9'>10</a>\u001b[0m         downsample_rate\u001b[39m=\u001b[39;49m\u001b[39m1\u001b[39;49m,\n\u001b[1;32m     <a href='vscode-notebook-cell://ssh-remote%2B7b22686f73744e616d65223a224d616368696e654e6f31227d/home/ubuntu/data/yong/projects/HRNet-Semantic-Segmentation/chech_dataset.ipynb#W1sdnNjb2RlLXJlbW90ZQ%3D%3D?line=10'>11</a>\u001b[0m         scale_factor\u001b[39m=\u001b[39;49m\u001b[39m11\u001b[39;49m)\n",
      "File \u001b[0;32m~/data/yong/projects/HRNet-Semantic-Segmentation/lib/datasets/lip.py:47\u001b[0m, in \u001b[0;36mLIP.__init__\u001b[0;34m(self, root, list_path, num_samples, num_classes, multi_scale, flip, ignore_label, base_size, crop_size, downsample_rate, scale_factor, mean, std)\u001b[0m\n\u001b[1;32m     44\u001b[0m \u001b[39mself\u001b[39m\u001b[39m.\u001b[39mflip \u001b[39m=\u001b[39m flip\n\u001b[1;32m     45\u001b[0m \u001b[39mself\u001b[39m\u001b[39m.\u001b[39mimg_list \u001b[39m=\u001b[39m [line\u001b[39m.\u001b[39mstrip()\u001b[39m.\u001b[39msplit() \u001b[39mfor\u001b[39;00m line \u001b[39min\u001b[39;00m \u001b[39mopen\u001b[39m(root\u001b[39m+\u001b[39mlist_path)]\n\u001b[0;32m---> 47\u001b[0m \u001b[39mself\u001b[39m\u001b[39m.\u001b[39mfiles \u001b[39m=\u001b[39m \u001b[39mself\u001b[39;49m\u001b[39m.\u001b[39;49mread_files()\n\u001b[1;32m     48\u001b[0m \u001b[39mif\u001b[39;00m num_samples:\n\u001b[1;32m     49\u001b[0m     \u001b[39mself\u001b[39m\u001b[39m.\u001b[39mfiles \u001b[39m=\u001b[39m \u001b[39mself\u001b[39m\u001b[39m.\u001b[39mfiles[:num_samples]\n",
      "File \u001b[0;32m~/data/yong/projects/HRNet-Semantic-Segmentation/lib/datasets/lip.py:55\u001b[0m, in \u001b[0;36mLIP.read_files\u001b[0;34m(self)\u001b[0m\n\u001b[1;32m     53\u001b[0m \u001b[39mfor\u001b[39;00m item \u001b[39min\u001b[39;00m \u001b[39mself\u001b[39m\u001b[39m.\u001b[39mimg_list:\n\u001b[1;32m     54\u001b[0m     \u001b[39mif\u001b[39;00m \u001b[39m'\u001b[39m\u001b[39mtrain\u001b[39m\u001b[39m'\u001b[39m \u001b[39min\u001b[39;00m \u001b[39mself\u001b[39m\u001b[39m.\u001b[39mlist_path:\n\u001b[0;32m---> 55\u001b[0m         image_path, label_path, _ \u001b[39m=\u001b[39m item\n\u001b[1;32m     56\u001b[0m         name \u001b[39m=\u001b[39m os\u001b[39m.\u001b[39mpath\u001b[39m.\u001b[39msplitext(os\u001b[39m.\u001b[39mpath\u001b[39m.\u001b[39mbasename(label_path))[\u001b[39m0\u001b[39m]\n\u001b[1;32m     57\u001b[0m         sample \u001b[39m=\u001b[39m {\u001b[39m\"\u001b[39m\u001b[39mimg\u001b[39m\u001b[39m\"\u001b[39m: image_path,\n\u001b[1;32m     58\u001b[0m                   \u001b[39m\"\u001b[39m\u001b[39mlabel\u001b[39m\u001b[39m\"\u001b[39m: label_path,\n\u001b[1;32m     59\u001b[0m                   \u001b[39m\"\u001b[39m\u001b[39mname\u001b[39m\u001b[39m\"\u001b[39m: name, }\n",
      "\u001b[0;31mValueError\u001b[0m: not enough values to unpack (expected 3, got 1)"
     ]
    }
   ],
   "source": [
    "ds = LIP(root='data/',\n",
    "         list_path='list/lip/trainList.txt',\n",
    "         num_samples = None,\n",
    "         num_classes=20,\n",
    "        multi_scale=True,\n",
    "        flip=True,\n",
    "        ignore_label=255,\n",
    "        base_size=473,\n",
    "        crop_size=(473, 473),\n",
    "        downsample_rate=1,\n",
    "        scale_factor=11)"
   ]
  },
  {
   "cell_type": "code",
   "execution_count": null,
   "metadata": {},
   "outputs": [],
   "source": []
  }
 ],
 "metadata": {
  "kernelspec": {
   "display_name": "Python 3.8.13 ('hrnet')",
   "language": "python",
   "name": "python3"
  },
  "language_info": {
   "codemirror_mode": {
    "name": "ipython",
    "version": 3
   },
   "file_extension": ".py",
   "mimetype": "text/x-python",
   "name": "python",
   "nbconvert_exporter": "python",
   "pygments_lexer": "ipython3",
   "version": "3.8.13"
  },
  "orig_nbformat": 4,
  "vscode": {
   "interpreter": {
    "hash": "598fd409a443807d6a2169d707c3340b253e6d0666aad806a3124513fbe3224b"
   }
  }
 },
 "nbformat": 4,
 "nbformat_minor": 2
}
