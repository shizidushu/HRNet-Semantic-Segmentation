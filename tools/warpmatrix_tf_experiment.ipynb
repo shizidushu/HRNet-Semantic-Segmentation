{
 "cells": [
  {
   "cell_type": "code",
   "execution_count": 1,
   "metadata": {},
   "outputs": [],
   "source": [
    "import tensorflow as tf\n",
    "import numpy as np\n",
    "import PIL\n",
    "from PIL import Image\n",
    "\n",
    "@tf.function\n",
    "def get_rotation_matrix(rad, height: int, width: int):\n",
    "    bx_s = float(width // 2)\n",
    "    by_s = float(height // 2)\n",
    "    # 先垂直反射, 然后左移bx_s, 下移by_s，（bx_s, by_s）移动到了左上原点的地方\n",
    "    T_s_d1 = tf.stack([\n",
    "        tf.concat([tf.constant([1.0]), tf.constant([0.0]), tf.constant([-bx_s]) ], axis = 0),\n",
    "        tf.concat([tf.constant([0.0]), tf.constant([-1.0]), tf.constant([by_s]) ], axis = 0),\n",
    "        tf.concat([tf.constant([0.0]), tf.constant([0.0]), tf.constant([1.0]) ], axis = 0)\n",
    "        ], axis = 0)\n",
    "    # 旋转\n",
    "    T_d1_d2 = tf.stack([\n",
    "        tf.concat([tf.cos([rad]), tf.sin([rad]), tf.constant([0.0]) ], axis = 0),\n",
    "        tf.concat([-tf.sin([rad]), tf.cos([rad]), tf.constant([0.0]) ], axis = 0),\n",
    "        tf.concat([tf.constant([0.0]), tf.constant([0.0]), tf.constant([1.0]) ], axis = 0)\n",
    "        ], axis = 0)\n",
    "    # 先再度y轴反射， 然后右移bx_s，下移by_s\n",
    "    T_d2_d = tf.stack([\n",
    "        tf.concat([tf.constant([1.0]), tf.constant([0.0]), tf.constant([bx_s]) ], axis = 0),\n",
    "        tf.concat([tf.constant([0.0]), tf.constant([-1.0]), tf.constant([by_s]) ], axis = 0),\n",
    "        tf.concat([tf.constant([0.0]), tf.constant([0.0]), tf.constant([1.0]) ], axis = 0)\n",
    "        ], axis = 0)\n",
    "    rotation_mat =  T_d2_d @ T_d1_d2 @ T_s_d1\n",
    "    return rotation_mat\n",
    "\n",
    "\n",
    "@tf.function\n",
    "def warpAffine(image, matrix_inv, width, height):\n",
    "    old_height, old_width, channel_num = image.shape\n",
    "    # dst = tf.Variable(tf.zeros((height, width, channel_num), dtype=tf.float32), trainable=False)\n",
    "    \n",
    "    i = tf.constant(0)\n",
    "    c = lambda i: tf.less(i, width)\n",
    "\n",
    "    def loop_width(i):\n",
    "        tf.print(i)\n",
    "        return (tf.add(i, 1),)\n",
    "    r = tf.while_loop(c, loop_width, [i])\n",
    "    return r\n",
    "\n",
    "    \"\"\"\n",
    "    matrix: inverse matrix, i.e., map from dest to source\n",
    "    width: width of destination\n",
    "    height: height of destination\n",
    "    \"\"\"\n",
    "    # old_height, old_width, channel_num = image.shape\n",
    "    # # dst = tf.Variable(tf.zeros((height, width, channel_num), dtype=tf.float32), trainable=False)\n",
    "    # def do(i):\n",
    "    #     tf.print(i)\n",
    "    #     return (tf.add(i, 1),)\n",
    "    # tf.while_loop(\n",
    "    #     lambda i: tf.less(i, width),\n",
    "    #     do,\n",
    "    #     [tf.constant(0)]\n",
    "    # )\n",
    "    # for u in range(width):\n",
    "    #     for v in range(height):\n",
    "    #         tf.print(u)\n",
    "            # x, y, _ = matrix_inv @ tf.constant([ [u], [v], [1.0] ], dtype=tf.float32)\n",
    "            # x, y, = x[0], y[0]\n",
    "            # intx, inty = int(x), int(y)\n",
    "            # if (0 <= intx < old_width and 0 <= inty < old_height):\n",
    "            #     pix = image[inty, intx]\n",
    "            #     dst[v, u].assign(pix)\n",
    "    # return dst\n",
    "\n",
    "@tf.function\n",
    "def rotate_image(image, degree):\n",
    "    rad = degree * np.pi / 180\n",
    "    height, width, _ = image.shape\n",
    "    \n",
    "    rotate_matrix = get_rotation_matrix(rad, height, width)\n",
    "    rotate_matrix_inv = tf.linalg.inv(rotate_matrix)\n",
    "    dest_img = warpAffine(image, rotate_matrix_inv, width, height)\n",
    "    return dest_img"
   ]
  },
  {
   "cell_type": "code",
   "execution_count": 7,
   "metadata": {},
   "outputs": [],
   "source": [
    "# tf.meshgrid(tf.range(10), tf.range(5))"
   ]
  },
  {
   "cell_type": "code",
   "execution_count": 8,
   "metadata": {},
   "outputs": [],
   "source": [
    "# x = [1, 2, 3]\n",
    "# y = [4, 5, 6]\n",
    "# X, Y = tf.meshgrid(x, y)"
   ]
  },
  {
   "cell_type": "code",
   "execution_count": 2,
   "metadata": {},
   "outputs": [],
   "source": [
    "img = Image.open('demo.jpeg')"
   ]
  },
  {
   "cell_type": "code",
   "execution_count": 3,
   "metadata": {},
   "outputs": [],
   "source": [
    "img_np = np.array(img)"
   ]
  },
  {
   "cell_type": "code",
   "execution_count": 4,
   "metadata": {},
   "outputs": [],
   "source": [
    "h, w, c = img_np.shape"
   ]
  },
  {
   "cell_type": "code",
   "execution_count": 5,
   "metadata": {},
   "outputs": [
    {
     "ename": "",
     "evalue": "",
     "output_type": "error",
     "traceback": [
      "\u001b[1;31mCanceled future for execute_request message before replies were done"
     ]
    },
    {
     "ename": "",
     "evalue": "",
     "output_type": "error",
     "traceback": [
      "\u001b[1;31mThe Kernel crashed while executing code in the the current cell or a previous cell. Please review the code in the cell(s) to identify a possible cause of the failure. Click <a href='https://aka.ms/vscodeJupyterKernelCrash'>here</a> for more info. View Jupyter <a href='command:jupyter.viewOutput'>log</a> for further details."
     ]
    }
   ],
   "source": [
    "rot_matrix =  get_rotation_matrix(30.0, h, w)\n",
    "rot_matrix_inx = tf.linalg.inv(rot_matrix)"
   ]
  },
  {
   "cell_type": "code",
   "execution_count": null,
   "metadata": {},
   "outputs": [],
   "source": []
  }
 ],
 "metadata": {
  "kernelspec": {
   "display_name": "Python 3.7.13 ('tf2')",
   "language": "python",
   "name": "python3"
  },
  "language_info": {
   "codemirror_mode": {
    "name": "ipython",
    "version": 3
   },
   "file_extension": ".py",
   "mimetype": "text/x-python",
   "name": "python",
   "nbconvert_exporter": "python",
   "pygments_lexer": "ipython3",
   "version": "3.7.13"
  },
  "orig_nbformat": 4,
  "vscode": {
   "interpreter": {
    "hash": "364c234029d58c342edfd2bce7a3a0e8b0e60bd744c2c8b12ab31c11630c707f"
   }
  }
 },
 "nbformat": 4,
 "nbformat_minor": 2
}
